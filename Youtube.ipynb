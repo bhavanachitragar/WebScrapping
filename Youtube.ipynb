{
 "cells": [
  {
   "cell_type": "code",
   "execution_count": 1,
   "id": "fea38c2d",
   "metadata": {},
   "outputs": [],
   "source": [
    "from selenium import webdriver\n",
    "from selenium.webdriver.chrome.service import Service\n",
    "from webdriver_manager.chrome import ChromeDriverManager\n",
    "\n",
    "driver = webdriver.Chrome(service=Service(ChromeDriverManager().install()))\n",
    "driver.get(\"https://www.youtube.com\")"
   ]
  },
  {
   "cell_type": "code",
   "execution_count": 2,
   "id": "c1c98e3a",
   "metadata": {},
   "outputs": [
    {
     "data": {
      "text/plain": [
       "''"
      ]
     },
     "execution_count": 2,
     "metadata": {},
     "output_type": "execute_result"
    }
   ],
   "source": [
    "from selenium.webdriver.common.by import By\n",
    "\n",
    "input_box = driver.find_element(By.XPATH, \"//input[@id='search']\")\n",
    "input_box.text"
   ]
  },
  {
   "cell_type": "code",
   "execution_count": 3,
   "id": "b480c430",
   "metadata": {},
   "outputs": [],
   "source": [
    "input_box.send_keys('billboard top 50 this week')\n",
    "input_box.submit()"
   ]
  },
  {
   "cell_type": "code",
   "execution_count": 5,
   "id": "760b92f8",
   "metadata": {},
   "outputs": [],
   "source": [
    "playlist_link = driver.find_element(By.XPATH, \"//a[contains(text(),'View full playlist')]\")\n",
    "playlist_link.click()"
   ]
  },
  {
   "cell_type": "code",
   "execution_count": 7,
   "id": "5f8dbced",
   "metadata": {},
   "outputs": [],
   "source": [
    "driver.execute_script(\"arguments[0].click();\", playlist_link)"
   ]
  },
  {
   "cell_type": "code",
   "execution_count": 8,
   "id": "735a76b4",
   "metadata": {},
   "outputs": [
    {
     "name": "stdout",
     "output_type": "stream",
     "text": [
      "Rank  1 : Jack Harlow - Lovin On Me [Official Music Video]\n",
      "Rank  2 : Doja Cat - Paint The Town Red (Official Video)\n",
      "Rank  3 : Dua Lipa - Dance The Night (From Barbie The Album) [Official Music Video]\n",
      "Rank  4 : Zach Bryan - I Remember Everything (feat. Kacey Musgraves)\n",
      "Rank  5 : Tyla, Travis Scott - Water (Remix - Official Audio)\n",
      "Rank  6 : Luke Combs - Fast Car (Lyrics)\n",
      "Rank  7 : Drake - First Person Shooter ft. J. Cole\n",
      "Rank  8 : Larry June, Cardo, Too $hort & Peezy - GRGP (Official Video)\n",
      "Rank  9 : Taylor Swift - Cruel Summer (Official Audio)\n",
      "Rank  10 : Morgan Wallen - Last Night (One Record At A Time Sessions)\n",
      "Rank  11 : Lil Bean & ZayBang - givenofuks (Official Video)\n",
      "Rank  12 : Dua Lipa - Houdini (Official Music Video)\n",
      "Rank  13 : Rema, Selena Gomez - Calm Down (Official Music Video)\n",
      "Rank  14 : BabyTron - Beyond Turnt 2 (Official Video)\n",
      "Rank  15 : Gunna - fukumean [Official Visualizer]\n",
      "Rank  16 : Miley Cyrus - Used To Be Young (Official Video)\n",
      "Rank  17 : 정국 (Jung Kook) '3D (feat. Jack Harlow)' Official MV\n",
      "Rank  18 : Vedo - Split (Official Video)\n",
      "Rank  19 : Olivia Rodrigo - vampire (Official Lyric Video)\n",
      "Rank  20 : Nicki Minaj & Ice Spice – Barbie World (with Aqua) [Official Music Video]\n",
      "Rank  21 : SZA - Snooze (Official Video)\n",
      "Rank  22 : Miley Cyrus - Flowers (Official Video)\n",
      "Rank  23 : $tupid Young - Ghetto Poetry (Official Video) (feat. Peezy)\n",
      "Rank  24 : Bailey Zimmerman - Religiously (Official Music Video)\n",
      "Rank  25 : Tate McRae - greedy (Official Video)\n",
      "Rank  26 : Lil Durk - All My Life ft. J. Cole (Official Video)\n",
      "Rank  27 : Billie Eilish - What Was I Made For? (Official Music Video)\n",
      "Rank  28 : Metro Boomin, The Weeknd, 21 Savage - Creepin' (Visualizer)\n",
      "Rank  29 : Taylor Swift ft. Ice Spice - Karma (Official Music Video)\n",
      "Rank  30 : Olivia Rodrigo - bad idea right? (Official Video)\n",
      "Rank  31 : Drake - Another Late Night ft. Lil Yachty (Directed by Cole Bennett)\n",
      "Rank  32 : Jelly Roll - \"NEED A FAVOR\" (Official Music Video)\n",
      "Rank  33 : Taylor Swift - Anti-Hero (Official Music Video)\n",
      "Rank  34 : Selena Gomez - Single Soon (Official Music Video)\n",
      "Rank  35 : SZA - Kill Bill (Audio)\n",
      "Rank  36 : Morgan Wallen - Thinkin’ Bout Me\n",
      "Rank  37 : Oliver Anthony - Rich Men North Of Richmond\n",
      "Rank  38 : FIFTY FIFTY (피프티피프티) - 'Cupid' Official MV\n",
      "Rank  39 : KAROL G, Peso Pluma - QLONA (Visualizer)\n",
      "Rank  40 : Luke Combs - Love You Anyway (Official Studio Video)\n",
      "Rank  41 : Travis Scott - MELTDOWN (Official Audio) ft. Drake\n",
      "Rank  42 : Rod Wave - Call Your Friends (Official Video)\n",
      "Rank  43 : PinkPantheress - Nice to meet you (feat. Central Cee) [Official Video]\n",
      "Rank  44 : Kenya Grace - Strangers (Official Lyric Video)\n",
      "Rank  45 : 정국 (Jung Kook) 'Seven (feat. Latto)' Official MV\n",
      "Rank  46 : Drake - Slime You Out ft. SZA (Official Audio)\n",
      "Rank  47 : Jason Aldean - Try That In A Small Town (Official Music Video)\n",
      "Rank  48 : Noah Kahan, Post Malone - Dial Drunk (Official Lyric Video)\n",
      "Rank  49 : Toosii - Favorite Song (Official Video)\n",
      "Rank  50 : Lainey Wilson - Watermelon Moonshine (Official Music Video)\n"
     ]
    }
   ],
   "source": [
    "video_names = list(driver.find_elements(By.CSS_SELECTOR, \"ytd-browse div#container div#meta a#video-title\"))\n",
    "\n",
    "for rank, video in enumerate(video_names, 1):\n",
    "    print(\"Rank \", str(rank) + \" : \" + video.text)\n",
    "    if rank >= 50:\n",
    "        break"
   ]
  },
  {
   "cell_type": "code",
   "execution_count": null,
   "id": "c6d9389f",
   "metadata": {},
   "outputs": [],
   "source": []
  }
 ],
 "metadata": {
  "kernelspec": {
   "display_name": "Python 3 (ipykernel)",
   "language": "python",
   "name": "python3"
  },
  "language_info": {
   "codemirror_mode": {
    "name": "ipython",
    "version": 3
   },
   "file_extension": ".py",
   "mimetype": "text/x-python",
   "name": "python",
   "nbconvert_exporter": "python",
   "pygments_lexer": "ipython3",
   "version": "3.11.2"
  }
 },
 "nbformat": 4,
 "nbformat_minor": 5
}
